{
  "metadata": {
    "kernelspec": {
      "name": "python",
      "display_name": "Python (Pyodide)",
      "language": "python"
    },
    "language_info": {
      "codemirror_mode": {
        "name": "python",
        "version": 3
      },
      "file_extension": ".py",
      "mimetype": "text/x-python",
      "name": "python",
      "nbconvert_exporter": "python",
      "pygments_lexer": "ipython3",
      "version": "3.8"
    }
  },
  "nbformat_minor": 4,
  "nbformat": 4,
  "cells": [
    {
      "cell_type": "markdown",
      "source": "# Tools For Data Science - Final Assignment",
      "metadata": {}
    },
    {
      "cell_type": "markdown",
      "source": "### Author - Tom Yemen",
      "metadata": {}
    },
    {
      "cell_type": "markdown",
      "source": "### Introduction\n\nThis notebook will summerize common programing languages, tools, and example python code used in data science.",
      "metadata": {}
    },
    {
      "cell_type": "markdown",
      "source": "### Objectives\n\n- List common data science programming languages.\n- List common data science programming libraries.\n- Show table of common Data Science tools.\n- Introduce arithmetic expression examples.",
      "metadata": {}
    },
    {
      "cell_type": "markdown",
      "source": "### Here is a list of common data science programming languages\n\n- Python\n- R\n- SQL\n- Scala\n- Java\n- C++\n- Julia\n\nJavaScript, PHP, Go, Ruby, and Visual Basic also have their applications for data science.",
      "metadata": {}
    },
    {
      "cell_type": "markdown",
      "source": "### Here is a list of common data science programming libraries\n\n- Pandas\n- Numpy\n- Matplotlib\n- Seaborn\n- Scikit-learn\n- Keras\n- Tensorflow\n- Pytorch\n- Apache Spark\n- Vegas\n- bigDL\n- ggplot2",
      "metadata": {}
    },
    {
      "cell_type": "markdown",
      "source": "### Here is a table containing common data science tools\n\n\n| Data Management |  Data Integration and Transformation | Data Visualization | Model Deployment | Model Montioring | Code Asset Management | Data Asset Management |\n|-----------------|--------------------|--------------------|------------------|------------------|-----------------------|-----------------------|\n| MySQL | Apache AirFlow | Pixie Dust | Apache PredictionIO | ModelDB | Git | Apache Atlas |\n| PostgreSQL | KubeFlow | Hue | Seldon | Prometheus | GitHub | ODPi Egeria |\n| MongoDB | Apache Kafka | Kibana | Apache Superset | Kubernetes | IBM AI Fairness 360 | | GitLab | Kylo |\n| Apache CouchDB | Apache Nifi | | Redhat OpenShift | IBM Adversarial Robustness 360 Toolbox | Bitbucket | |\n| Apache Cassandra | Apache SparkSQL | | Mleap | IBM AI Explainability 360 | | |\n| Hadoop File System | NodeRED | | TensorFlow Service | | | |\n| Ceph | | | TensorFlow Lite | | | |\n| Elastic Search | | | TensorFlow dot JS | | | |\n\n    ",
      "metadata": {}
    },
    {
      "cell_type": "markdown",
      "source": "### Using code blocks in Jupyter Notebooks\n\nThe advantage of using Jupyter Notebooks is that you can use text, images, and code all in one place.\nIn the python code blocks below we will review some basic arithmetic expression examples.\n",
      "metadata": {}
    },
    {
      "cell_type": "code",
      "source": "# Setting Variables and arithmatic expressions\na = 1\nb = 2\nx = a + b\ny = x * b\n\n# Printing the output\nprint('a = 1')\nprint('b = 2')\nprint('x = a + b')\nprint('y = x * b')\nprint('x = ',x)\nprint('y = ',y)\n",
      "metadata": {
        "trusted": true
      },
      "outputs": [
        {
          "name": "stdout",
          "text": "a = 1\nb = 2\nx = a + b\ny = x * b\nx =  3\ny =  6\n",
          "output_type": "stream"
        }
      ],
      "execution_count": 7
    },
    {
      "cell_type": "code",
      "source": "# Converting Hours to Minutes\n\nTotal_Minutes = 396\nprint('Total Minutes = ',Total_Minutes)\n\n# Convert to whole hours using floor division\nTotal_Whole_Hours = Total_Minutes // 60\nprint('Total Whole Hours = ',Total_Whole_Hours)\n\n# Convert to decimal hours\nTotal_Decimal_Hours = Total_Minutes / 60\nprint('Total Decimal Hours = ',Total_Decimal_Hours)\n      ",
      "metadata": {
        "trusted": true
      },
      "outputs": [
        {
          "name": "stdout",
          "text": "Total Minutes =  396\nTotal Whole Hours =  6\nTotal Decimal Hours =  6.6\n",
          "output_type": "stream"
        }
      ],
      "execution_count": 10
    }
  ]
}